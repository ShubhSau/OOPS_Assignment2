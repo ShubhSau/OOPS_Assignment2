{
 "cells": [
  {
   "cell_type": "markdown",
   "id": "46af8fea-320b-479e-9a15-c5640ca6dbb8",
   "metadata": {},
   "source": [
    "Q1. What is Abstraction in OOps? Explain with an example."
   ]
  },
  {
   "cell_type": "code",
   "execution_count": 2,
   "id": "4ffa953d-fed9-41a2-a34b-7c7121170310",
   "metadata": {},
   "outputs": [
    {
     "name": "stdout",
     "output_type": "stream",
     "text": [
      "Barking.\n",
      "Eating.\n"
     ]
    }
   ],
   "source": [
    "\"\"\"Abstraction is a crucial concept in object-oriented programming (OOP) that focuses on representing complex\n",
    "real-world entities or systems in a simplified manner. It involves capturing only the essential characteristics \n",
    "of an object or system, while hiding the unnecessary details. Abstraction helps in managing complexity, enhancing \n",
    "code reusability, and facilitating modular design.\"\"\"\n",
    "\n",
    "from abc import ABC, abstractmethod\n",
    "\n",
    "# Abstract class\n",
    "class Animal(ABC):\n",
    "    @abstractmethod\n",
    "    def sound(self):\n",
    "        pass\n",
    "\n",
    "    def eat(self):\n",
    "        print(\"Eating.\")\n",
    "\n",
    "class Dog(Animal):\n",
    "    def sound(self):\n",
    "        print(\"Barking.\")\n",
    "\n",
    "dog = Dog()\n",
    "\n",
    "dog.sound()\n",
    "dog.eat()"
   ]
  },
  {
   "cell_type": "markdown",
   "id": "2c07a746-22dc-42fb-9cba-728b8ef95ad5",
   "metadata": {},
   "source": [
    "Q2. Differentiate between Abstraction and Encapsulation. Explain with an example."
   ]
  },
  {
   "cell_type": "markdown",
   "id": "c17e5ec0-2a3a-4c5b-b272-4aa5679628c8",
   "metadata": {},
   "source": [
    "Abstraction focuses on representing complex entities or systems in a simplified manner, by capturing only the essential characteristics and hiding the unnecessary details. It allows us to create generalized models, define interfaces, and work with objects at a higher level of abstraction. Abstraction is achieved through abstract classes and interfaces.\n",
    "\n",
    "Encapsulation, on the other hand, is concerned with bundling data (attributes) and methods (behavior) within a class, and hiding the internal state of an object from the outside world. It allows objects to control access to their internal data, and provides the concept of information hiding. Encapsulation helps in achieving data abstraction, modularity, and code organization."
   ]
  },
  {
   "cell_type": "code",
   "execution_count": 3,
   "id": "88835784-5f6c-40ac-8ca7-b6d063183c82",
   "metadata": {},
   "outputs": [
    {
     "name": "stdout",
     "output_type": "stream",
     "text": [
      "Car started.\n",
      "Bike started.\n",
      "Name: Mayank, Age: 30\n",
      "30\n",
      "Name: Abhay, Age: 30\n"
     ]
    }
   ],
   "source": [
    "# Abstraction through an abstract class\n",
    "\n",
    "from abc import ABC, abstractmethod\n",
    "\n",
    "class Vehicle(ABC):\n",
    "    @abstractmethod\n",
    "    def start(self):\n",
    "        pass\n",
    "\n",
    "class Car(Vehicle):\n",
    "    def start(self):\n",
    "        print(\"Car started.\")\n",
    "\n",
    "class Bike(Vehicle):\n",
    "    def start(self):\n",
    "        print(\"Bike started.\")\n",
    "\n",
    "# Encapsulation through a class with private attributes\n",
    "class Person:\n",
    "    def __init__(self, name, age):\n",
    "        self._name = name  # Encapsulated attribute\n",
    "        self._age = age    # Encapsulated attribute\n",
    "    \n",
    "    def display_info(self):\n",
    "        print(f\"Name: {self._name}, Age: {self._age}\")\n",
    "\n",
    "    def _get_age(self):\n",
    "        return self._age\n",
    "\n",
    "# Creating instances and accessing methods\n",
    "car = Car()\n",
    "bike = Bike()\n",
    "\n",
    "car.start()\n",
    "bike.start()\n",
    "\n",
    "person = Person(\"Mayank\", 30)\n",
    "person.display_info()\n",
    "print(person._get_age())\n",
    "\n",
    "person._name = \"Abhay\"  # Changing encapsulated attribute (avoiding encapsulation)\n",
    "\n",
    "person.display_info()"
   ]
  },
  {
   "cell_type": "markdown",
   "id": "cbdc6344-b2fa-4992-bb9e-37e5937576f8",
   "metadata": {},
   "source": [
    "Q3. What is abc module in python? Why is it used?"
   ]
  },
  {
   "cell_type": "markdown",
   "id": "1d54be2b-62ce-433b-9f1e-a2b86a59c4c6",
   "metadata": {},
   "source": [
    "The 'abc' module in Python stands for \"Abstract Base Classes.\" It is a module that provides mechanisms for defining abstract base classes in Python. \n",
    "\n",
    "The 'abc' module is used to create abstract base classes and enforce specific behavior and method implementation in their subclasses. It provides the 'ABC' class as a base class for creating abstract classes and the abstractmethod decorator to define abstract methods within those classes. The module also provides other utility functions and classes to work with abstract base classes.\n",
    "\n",
    "- Defining Abstract Base Classes\n",
    "- Enforcing Method Implementation\n",
    "- Providing a Common Interface\n",
    "- Class and Object Type Checking"
   ]
  },
  {
   "cell_type": "markdown",
   "id": "28c9de39-6bdc-4727-a059-ea88b9e875bd",
   "metadata": {},
   "source": [
    "Q4. How can we achieve data abstraction?"
   ]
  },
  {
   "cell_type": "markdown",
   "id": "321c62da-67b8-46ad-bfcf-8c8c1fc8dbaf",
   "metadata": {},
   "source": [
    "The process by which data and functions are defined in such a way that only essential details can be seen and unnecessary implementations are hidden is called Data Abstraction.\n",
    "\n",
    "The main focus of data abstraction is to separate the interface and the implementation of the program.\n",
    "\n",
    "Here are some techniques to achieve data abstraction:\n",
    "- Encapsulation\n",
    "- Access Modifiers\n",
    "- Getters and Setters\n",
    "- Abstract Classes and Interfaces"
   ]
  },
  {
   "cell_type": "markdown",
   "id": "cb6c5f18-ac32-48eb-8f10-46e729f05c34",
   "metadata": {},
   "source": [
    "Q5. Can we create an instance of an abstract class? Explain your answer."
   ]
  },
  {
   "cell_type": "markdown",
   "id": "9f22c80a-d7db-42df-b81e-f5c18864de94",
   "metadata": {},
   "source": [
    "No, we cannot create an instance of an abstract class in Python.\n",
    "\n",
    "Abstract classes are created using the 'abc' module and are typically subclasses of the 'ABC' class.\n",
    "\n",
    "Attempting to create an instance of an abstract class directly will result in a 'TypeError'. This is because the abstract class itself is incomplete and lacks the necessary implementations of the abstract methods. "
   ]
  },
  {
   "cell_type": "code",
   "execution_count": null,
   "id": "7f9ee7bd-1b01-4965-960a-38eb3c185bd5",
   "metadata": {},
   "outputs": [],
   "source": []
  }
 ],
 "metadata": {
  "kernelspec": {
   "display_name": "Python 3 (ipykernel)",
   "language": "python",
   "name": "python3"
  },
  "language_info": {
   "codemirror_mode": {
    "name": "ipython",
    "version": 3
   },
   "file_extension": ".py",
   "mimetype": "text/x-python",
   "name": "python",
   "nbconvert_exporter": "python",
   "pygments_lexer": "ipython3",
   "version": "3.10.8"
  }
 },
 "nbformat": 4,
 "nbformat_minor": 5
}
